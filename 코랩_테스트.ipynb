{
  "nbformat": 4,
  "nbformat_minor": 0,
  "metadata": {
    "colab": {
      "name": "코랩-테스트.ipynb",
      "provenance": [],
      "collapsed_sections": [],
      "authorship_tag": "ABX9TyNKAEOigofpMZQ7gCp/PTVG",
      "include_colab_link": true
    },
    "kernelspec": {
      "name": "python3",
      "display_name": "Python 3"
    },
    "language_info": {
      "name": "python"
    }
  },
  "cells": [
    {
      "cell_type": "markdown",
      "metadata": {
        "id": "view-in-github",
        "colab_type": "text"
      },
      "source": [
        "<a href=\"https://colab.research.google.com/github/hongrthing/drawpaint-tutorial/blob/master/%EC%BD%94%EB%9E%A9_%ED%85%8C%EC%8A%A4%ED%8A%B8.ipynb\" target=\"_parent\"><img src=\"https://colab.research.google.com/assets/colab-badge.svg\" alt=\"Open In Colab\"/></a>"
      ]
    },
    {
      "cell_type": "code",
      "metadata": {
        "colab": {
          "base_uri": "https://localhost:8080/"
        },
        "id": "2BeHkcVsGF46",
        "outputId": "46a7804b-d3b6-4ff9-fe15-532093d4f1ff"
      },
      "source": [
        "import numpy as np\n",
        "\n",
        "x=[2, 4, 6, 8]\n",
        "y=[81, 93, 91, 97]\n",
        "\n",
        "mx = np.mean(x)\n",
        "my = np.mean(y)\n",
        "print(\"x의 평균값:\", mx)\n",
        "print(\"y의 평균값:\", my)\n",
        "\n",
        "divisor = sum([(mx - i)**2 for i in x])\n",
        "\n",
        "def top(x, mx, y, my):\n",
        "  d = 0\n",
        "  for i in range(len(x)):\n",
        "    d += (x[i] - mx) * (y[i] - my)\n",
        "  return d\n",
        "dividend = top(x, mx, y, my)\n",
        "\n",
        "print(\"분모:\", divisor)\n",
        "print(\"분자:\", dividend)\n",
        "\n",
        "a = dividend / divisor\n",
        "b = my - (mx*a)\n",
        "\n",
        "print(\"기울기 a=\", a)\n",
        "print(\"y 절편 b =\", b)"
      ],
      "execution_count": 8,
      "outputs": [
        {
          "output_type": "stream",
          "text": [
            "x의 평균값: 5.0\n",
            "y의 평균값: 90.5\n",
            "분모: 20.0\n",
            "분자: 46.0\n",
            "기울기 a= 2.3\n",
            "y 절편 b = 79.0\n"
          ],
          "name": "stdout"
        }
      ]
    }
  ]
}